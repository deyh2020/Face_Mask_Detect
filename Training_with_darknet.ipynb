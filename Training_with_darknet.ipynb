{
  "nbformat": 4,
  "nbformat_minor": 0,
  "metadata": {
    "colab": {
      "name": "Training_with_darknet.ipynb",
      "provenance": [],
      "collapsed_sections": [],
      "mount_file_id": "1TvhnVLS08eObwjwYjpvQMN0Aj0KIQxLj",
      "authorship_tag": "ABX9TyNKlA5ebxZpo94qkG76oS6W",
      "include_colab_link": true
    },
    "kernelspec": {
      "display_name": "Python 3",
      "name": "python3"
    },
    "language_info": {
      "name": "python"
    }
  },
  "cells": [
    {
      "cell_type": "markdown",
      "metadata": {
        "id": "view-in-github",
        "colab_type": "text"
      },
      "source": [
        "<a href=\"https://colab.research.google.com/github/perses08/Face_Mask_Detect/blob/main/Training_with_darknet.ipynb\" target=\"_parent\"><img src=\"https://colab.research.google.com/assets/colab-badge.svg\" alt=\"Open In Colab\"/></a>"
      ]
    },
    {
      "cell_type": "code",
      "metadata": {
        "id": "Axepi6x-W0-K",
        "colab": {
          "base_uri": "https://localhost:8080/"
        },
        "outputId": "926f1915-6ecd-487c-a0fb-6be0d24cee2f"
      },
      "source": [
        "# Check if NVIDIA GPU is enabled\n",
        "!nvidia-smi"
      ],
      "execution_count": null,
      "outputs": [
        {
          "output_type": "stream",
          "text": [
            "Sat Apr 10 16:34:43 2021       \n",
            "+-----------------------------------------------------------------------------+\n",
            "| NVIDIA-SMI 460.67       Driver Version: 460.32.03    CUDA Version: 11.2     |\n",
            "|-------------------------------+----------------------+----------------------+\n",
            "| GPU  Name        Persistence-M| Bus-Id        Disp.A | Volatile Uncorr. ECC |\n",
            "| Fan  Temp  Perf  Pwr:Usage/Cap|         Memory-Usage | GPU-Util  Compute M. |\n",
            "|                               |                      |               MIG M. |\n",
            "|===============================+======================+======================|\n",
            "|   0  Tesla T4            Off  | 00000000:00:04.0 Off |                    0 |\n",
            "| N/A   39C    P8     9W /  70W |      0MiB / 15109MiB |      0%      Default |\n",
            "|                               |                      |                  N/A |\n",
            "+-------------------------------+----------------------+----------------------+\n",
            "                                                                               \n",
            "+-----------------------------------------------------------------------------+\n",
            "| Processes:                                                                  |\n",
            "|  GPU   GI   CI        PID   Type   Process name                  GPU Memory |\n",
            "|        ID   ID                                                   Usage      |\n",
            "|=============================================================================|\n",
            "|  No running processes found                                                 |\n",
            "+-----------------------------------------------------------------------------+\n"
          ],
          "name": "stdout"
        }
      ]
    },
    {
      "cell_type": "code",
      "metadata": {
        "colab": {
          "base_uri": "https://localhost:8080/"
        },
        "id": "nh5TUZwMrFC6",
        "outputId": "afc912f6-3aed-4424-f142-b69bcb55a7cf"
      },
      "source": [
        "from google.colab import drive\n",
        "drive.mount('/content/gdrive')\n",
        "!ls"
      ],
      "execution_count": null,
      "outputs": [
        {
          "output_type": "stream",
          "text": [
            "Mounted at /content/gdrive\n",
            "drive  gdrive  sample_data\n"
          ],
          "name": "stdout"
        }
      ]
    },
    {
      "cell_type": "code",
      "metadata": {
        "colab": {
          "base_uri": "https://localhost:8080/"
        },
        "id": "ROxUuwX8rVPS",
        "outputId": "3cb423fe-b243-4be4-d183-d1e42a6fe32d"
      },
      "source": [
        "!ls /content/drive/MyDrive/YOLO_Custom/"
      ],
      "execution_count": null,
      "outputs": [
        {
          "output_type": "stream",
          "text": [
            "backup\tcustom_data  custom_weight  obj.data  obj.names  train.txt\n"
          ],
          "name": "stdout"
        }
      ]
    },
    {
      "cell_type": "code",
      "metadata": {
        "id": "M2OjpytX7te-"
      },
      "source": [
        "!unzip '/content/drive/MyDrive/YOLO_Custom/custom_datadet.zip' -d '/content/drive/MyDrive/YOLO_Custom/' "
      ],
      "execution_count": null,
      "outputs": []
    },
    {
      "cell_type": "code",
      "metadata": {
        "colab": {
          "base_uri": "https://localhost:8080/"
        },
        "id": "m6hX0_I88MaH",
        "outputId": "cec17f5b-77e4-4d38-cb85-381aa2b1455e"
      },
      "source": [
        "!git clone 'https://github.com/AlexeyAB/darknet.git' '/content/drive/MyDrive/YOLO_Custom/darknet'"
      ],
      "execution_count": null,
      "outputs": [
        {
          "output_type": "stream",
          "text": [
            "fatal: destination path '/content/drive/MyDrive/YOLO_Custom/darknet' already exists and is not an empty directory.\n"
          ],
          "name": "stdout"
        }
      ]
    },
    {
      "cell_type": "code",
      "metadata": {
        "colab": {
          "base_uri": "https://localhost:8080/"
        },
        "id": "veHkHCBo9zBS",
        "outputId": "92f129c5-461a-4492-feb5-5d2f36a2f67a"
      },
      "source": [
        "%cd /content/drive/MyDrive/YOLO_Custom/darknet/"
      ],
      "execution_count": null,
      "outputs": [
        {
          "output_type": "stream",
          "text": [
            "/content/drive/MyDrive/YOLO_Custom/darknet\n"
          ],
          "name": "stdout"
        }
      ]
    },
    {
      "cell_type": "code",
      "metadata": {
        "colab": {
          "base_uri": "https://localhost:8080/"
        },
        "id": "Pd9vFw1h_Gt5",
        "outputId": "d4dd47ac-8f16-45eb-f162-b55d19343920"
      },
      "source": [
        "!ls"
      ],
      "execution_count": null,
      "outputs": [
        {
          "output_type": "stream",
          "text": [
            "3rdparty\tDarknetConfig.cmake.in\tinclude\t\t       results\n",
            "build\t\tdarknet_images.py\tjson_mjpeg_streams.sh  scripts\n",
            "build.ps1\tdarknet.py\t\tLICENSE\t\t       src\n",
            "build.sh\tdarknet_video.py\tMakefile\t       vcpkg.json\n",
            "cfg\t\tdata\t\t\tnet_cam_v3.sh\t       video_yolov3.sh\n",
            "cmake\t\timage_yolov3.sh\t\tnet_cam_v4.sh\t       video_yolov4.sh\n",
            "CMakeLists.txt\timage_yolov4.sh\t\tREADME.md\n"
          ],
          "name": "stdout"
        }
      ]
    },
    {
      "cell_type": "code",
      "metadata": {
        "id": "CTdZ6t4C_M1s"
      },
      "source": [
        "!make"
      ],
      "execution_count": null,
      "outputs": []
    },
    {
      "cell_type": "code",
      "metadata": {
        "colab": {
          "base_uri": "https://localhost:8080/"
        },
        "id": "C2gJQEU8_aRj",
        "outputId": "5b5a0887-3271-4993-ef7b-f980649ce80a"
      },
      "source": [
        "%cd .."
      ],
      "execution_count": null,
      "outputs": [
        {
          "output_type": "stream",
          "text": [
            "/content/drive/MyDrive/YOLO_Custom\n"
          ],
          "name": "stdout"
        }
      ]
    },
    {
      "cell_type": "code",
      "metadata": {
        "id": "i9dF12YPTCB4"
      },
      "source": [
        "!python custom_data/train.py"
      ],
      "execution_count": null,
      "outputs": []
    },
    {
      "cell_type": "code",
      "metadata": {
        "colab": {
          "base_uri": "https://localhost:8080/"
        },
        "id": "NLm0yEG2Uln7",
        "outputId": "c1fd20bc-55de-4e8f-f9a3-91db49cef7c2"
      },
      "source": [
        "!wget http://pjreddie.com/media/files/darknet53.conv.74"
      ],
      "execution_count": null,
      "outputs": [
        {
          "output_type": "stream",
          "text": [
            "URL transformed to HTTPS due to an HSTS policy\n",
            "--2021-04-10 18:50:33--  https://pjreddie.com/media/files/darknet53.conv.74\n",
            "Resolving pjreddie.com (pjreddie.com)... 128.208.4.108\n",
            "Connecting to pjreddie.com (pjreddie.com)|128.208.4.108|:443... connected.\n",
            "HTTP request sent, awaiting response... 200 OK\n",
            "Length: 162482580 (155M) [application/octet-stream]\n",
            "Saving to: ‘darknet53.conv.74’\n",
            "\n",
            "darknet53.conv.74   100%[===================>] 154.96M  43.7MB/s    in 3.9s    \n",
            "\n",
            "2021-04-10 18:50:37 (39.9 MB/s) - ‘darknet53.conv.74’ saved [162482580/162482580]\n",
            "\n"
          ],
          "name": "stdout"
        }
      ]
    },
    {
      "cell_type": "code",
      "metadata": {
        "colab": {
          "base_uri": "https://localhost:8080/"
        },
        "id": "1LKlBeV1dJlv",
        "outputId": "c366abb9-275e-457e-a29e-58d46d78e242"
      },
      "source": [
        "%cd .."
      ],
      "execution_count": null,
      "outputs": [
        {
          "output_type": "stream",
          "text": [
            "/content/drive/My Drive/YOLO_Custom\n"
          ],
          "name": "stdout"
        }
      ]
    },
    {
      "cell_type": "code",
      "metadata": {
        "id": "pNSR7T3CeDRZ"
      },
      "source": [
        "!./darknet/darknet detector train obj.data darknet/cfg/yolov3.cfg darknet53.conv.74 -dont_show"
      ],
      "execution_count": null,
      "outputs": []
    }
  ]
}